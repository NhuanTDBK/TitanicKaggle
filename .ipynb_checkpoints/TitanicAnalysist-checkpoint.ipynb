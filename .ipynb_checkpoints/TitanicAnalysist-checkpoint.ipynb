{
 "metadata": {
  "name": "",
  "signature": "sha256:d56781300e86210692ee55d999e0d51183ad084461f60115f416d9e7126c0564"
 },
 "nbformat": 3,
 "nbformat_minor": 0,
 "worksheets": [
  {
   "cells": [
    {
     "cell_type": "code",
     "collapsed": false,
     "input": [
      "import pandas as pd\n",
      "from pandas import Series,DataFrame\n",
      "\n",
      "# numpy, matplotlib, seaborn\n",
      "import numpy as np\n",
      "import matplotlib.pyplot as plt\n",
      "import seaborn as sns\n",
      "sns.set_style('whitegrid')\n",
      "%matplotlib inline\n",
      "\n",
      "# machine learning\n",
      "from sklearn.linear_model import LogisticRegression\n",
      "from sklearn import cross_validation\n",
      "from sklearn.svm import SVC, LinearSVC\n",
      "from sklearn.ensemble import RandomForestClassifier, ExtraTreesClassifier, AdaBoostClassifier,VotingClassifier\n",
      "# from skflow.estimators import TensorFlowDNNClassifier\n",
      "from sklearn.neighbors import KNeighborsClassifier\n",
      "from sklearn.naive_bayes import GaussianNB\n",
      "from sklearn.cross_validation import StratifiedKFold, KFold\n",
      "from sklearn.metrics import accuracy_score\n",
      "import re"
     ],
     "language": "python",
     "metadata": {},
     "outputs": [],
     "prompt_number": 1
    },
    {
     "cell_type": "code",
     "collapsed": false,
     "input": [
      "train_dat = pd.read_csv(\"train.csv\", dtype={\"Age\": np.float64}).drop(['PassengerId','Ticket'], axis=1)\n",
      "test_dat = pd.read_csv(\"test.csv\", dtype={\"Age\": np.float64}).drop(['PassengerId','Ticket'], axis=1)"
     ],
     "language": "python",
     "metadata": {},
     "outputs": [],
     "prompt_number": 2
    },
    {
     "cell_type": "code",
     "collapsed": false,
     "input": [
      "train_dat.head()"
     ],
     "language": "python",
     "metadata": {},
     "outputs": [
      {
       "html": [
        "<div style=\"max-width:1500px;overflow:auto;\">\n",
        "<table border=\"1\" class=\"dataframe\">\n",
        "  <thead>\n",
        "    <tr style=\"text-align: right;\">\n",
        "      <th></th>\n",
        "      <th>Survived</th>\n",
        "      <th>Pclass</th>\n",
        "      <th>Name</th>\n",
        "      <th>Sex</th>\n",
        "      <th>Age</th>\n",
        "      <th>SibSp</th>\n",
        "      <th>Parch</th>\n",
        "      <th>Fare</th>\n",
        "      <th>Cabin</th>\n",
        "      <th>Embarked</th>\n",
        "    </tr>\n",
        "  </thead>\n",
        "  <tbody>\n",
        "    <tr>\n",
        "      <th>0</th>\n",
        "      <td>0</td>\n",
        "      <td>3</td>\n",
        "      <td>Braund, Mr. Owen Harris</td>\n",
        "      <td>male</td>\n",
        "      <td>22.0</td>\n",
        "      <td>1</td>\n",
        "      <td>0</td>\n",
        "      <td>7.2500</td>\n",
        "      <td>NaN</td>\n",
        "      <td>S</td>\n",
        "    </tr>\n",
        "    <tr>\n",
        "      <th>1</th>\n",
        "      <td>1</td>\n",
        "      <td>1</td>\n",
        "      <td>Cumings, Mrs. John Bradley (Florence Briggs Th...</td>\n",
        "      <td>female</td>\n",
        "      <td>38.0</td>\n",
        "      <td>1</td>\n",
        "      <td>0</td>\n",
        "      <td>71.2833</td>\n",
        "      <td>C85</td>\n",
        "      <td>C</td>\n",
        "    </tr>\n",
        "    <tr>\n",
        "      <th>2</th>\n",
        "      <td>1</td>\n",
        "      <td>3</td>\n",
        "      <td>Heikkinen, Miss. Laina</td>\n",
        "      <td>female</td>\n",
        "      <td>26.0</td>\n",
        "      <td>0</td>\n",
        "      <td>0</td>\n",
        "      <td>7.9250</td>\n",
        "      <td>NaN</td>\n",
        "      <td>S</td>\n",
        "    </tr>\n",
        "    <tr>\n",
        "      <th>3</th>\n",
        "      <td>1</td>\n",
        "      <td>1</td>\n",
        "      <td>Futrelle, Mrs. Jacques Heath (Lily May Peel)</td>\n",
        "      <td>female</td>\n",
        "      <td>35.0</td>\n",
        "      <td>1</td>\n",
        "      <td>0</td>\n",
        "      <td>53.1000</td>\n",
        "      <td>C123</td>\n",
        "      <td>S</td>\n",
        "    </tr>\n",
        "    <tr>\n",
        "      <th>4</th>\n",
        "      <td>0</td>\n",
        "      <td>3</td>\n",
        "      <td>Allen, Mr. William Henry</td>\n",
        "      <td>male</td>\n",
        "      <td>35.0</td>\n",
        "      <td>0</td>\n",
        "      <td>0</td>\n",
        "      <td>8.0500</td>\n",
        "      <td>NaN</td>\n",
        "      <td>S</td>\n",
        "    </tr>\n",
        "  </tbody>\n",
        "</table>\n",
        "</div>"
       ],
       "metadata": {},
       "output_type": "pyout",
       "prompt_number": 3,
       "text": [
        "   Survived  Pclass                                               Name  \\\n",
        "0         0       3                            Braund, Mr. Owen Harris   \n",
        "1         1       1  Cumings, Mrs. John Bradley (Florence Briggs Th...   \n",
        "2         1       3                             Heikkinen, Miss. Laina   \n",
        "3         1       1       Futrelle, Mrs. Jacques Heath (Lily May Peel)   \n",
        "4         0       3                           Allen, Mr. William Henry   \n",
        "\n",
        "      Sex   Age  SibSp  Parch     Fare Cabin Embarked  \n",
        "0    male  22.0      1      0   7.2500   NaN        S  \n",
        "1  female  38.0      1      0  71.2833   C85        C  \n",
        "2  female  26.0      0      0   7.9250   NaN        S  \n",
        "3  female  35.0      1      0  53.1000  C123        S  \n",
        "4    male  35.0      0      0   8.0500   NaN        S  "
       ]
      }
     ],
     "prompt_number": 3
    },
    {
     "cell_type": "code",
     "collapsed": false,
     "input": [
      "train_dat[\"FamilySize\"] = train_dat.SibSp + train_dat.Parch + 1"
     ],
     "language": "python",
     "metadata": {},
     "outputs": [],
     "prompt_number": 4
    },
    {
     "cell_type": "code",
     "collapsed": false,
     "input": [
      "sns.countplot(x=\"FamilySize\",hue=\"Survived\",data = train_dat)"
     ],
     "language": "python",
     "metadata": {},
     "outputs": [
      {
       "metadata": {},
       "output_type": "pyout",
       "prompt_number": 5,
       "text": [
        "<matplotlib.axes._subplots.AxesSubplot at 0x7efd5ba2c650>"
       ]
      },
      {
       "metadata": {},
       "output_type": "display_data",
       "png": "[encoded data removed]",
       "text": [
        "<matplotlib.figure.Figure at 0x7efd5ba7be50>"
       ]
      }
     ],
     "prompt_number": 5
    },
    {
     "cell_type": "markdown",
     "metadata": {},
     "source": [
      "There is a survival penalty to singleton and those family size above 4. we have classify the family sizes into 3 groups: singleton (1), small (1-4) and medium (5)"
     ]
    },
    {
     "cell_type": "code",
     "collapsed": false,
     "input": [
      "def get_family_group(size):\n",
      "    if (size == 1): \n",
      "        return \"single\"\n",
      "    if (size > 1) and (size <=4):\n",
      "        return \"small\"\n",
      "    if (size >=5):\n",
      "        return \"big\"\n",
      "train_dat[\"FamilyGroup\"] = train_dat.FamilySize.apply(get_family_group)"
     ],
     "language": "python",
     "metadata": {},
     "outputs": [],
     "prompt_number": 146
    },
    {
     "cell_type": "code",
     "collapsed": false,
     "input": [
      "sns.countplot(x=\"FamilyGroup\",hue=\"Survived\",data = train_dat)"
     ],
     "language": "python",
     "metadata": {},
     "outputs": [
      {
       "metadata": {},
       "output_type": "pyout",
       "prompt_number": 147,
       "text": [
        "<matplotlib.axes._subplots.AxesSubplot at 0x7efd2a8b0710>"
       ]
      },
      {
       "metadata": {},
       "output_type": "display_data",
       "png": "[encoded data removed]",
       "text": [
        "<matplotlib.figure.Figure at 0x7efd2a8a0d50>"
       ]
      }
     ],
     "prompt_number": 147
    },
    {
     "cell_type": "markdown",
     "metadata": {},
     "source": [
      "Intuively, small families have higher chances to survived than single or big families. So next task, we're going to define who's in the family based on their name"
     ]
    },
    {
     "cell_type": "markdown",
     "metadata": {},
     "source": [
      "As we can see, Name format divided by male or female:\n",
      "Female has four parts: Lastname of husband, Title, first name of husband and (first and last name of wife)\n",
      "Male has three parts: Lastname, Title, Name and Middle Name"
     ]
    },
    {
     "cell_type": "code",
     "collapsed": false,
     "input": [
      "# TotalName = train_dat.Name.append(test_dat.Name)"
     ],
     "language": "python",
     "metadata": {},
     "outputs": [],
     "prompt_number": 148
    },
    {
     "cell_type": "code",
     "collapsed": false,
     "input": [
      "get_family_name = lambda d: d.split(',')[0]\n",
      "get_title = lambda d: d.split(',')[-1].split('.')[0]\n",
      "def get_title(title):\n",
      "    title = title.strip()\n",
      "    rate_title = ['Dona', 'Lady', 'the Countess','Capt', 'Col', 'Don', \n",
      "                'Dr', 'Major', 'Rev', 'Sir', 'Jonkheer']\n",
      "    if title in rate_title:\n",
      "        return \"Rare Title\"\n",
      "    if title == 'Mlle':\n",
      "        return \"Miss\"\n",
      "    if title == 'Ms':\n",
      "        return \"Miss\"\n",
      "    if title == 'Mme':\n",
      "        return \"Mrs\"\n",
      "    return title"
     ],
     "language": "python",
     "metadata": {},
     "outputs": [],
     "prompt_number": 149
    },
    {
     "cell_type": "code",
     "collapsed": false,
     "input": [
      "title = train_dat.Name.apply(get_title)\n",
      "title_group = title.apply(get_title)\n",
      "train_dat[\"Title\"] = title_group\n",
      "train_dat[\"FamilyName\"] = train_dat.Name.apply(get_family_name)"
     ],
     "language": "python",
     "metadata": {},
     "outputs": [],
     "prompt_number": 150
    },
    {
     "cell_type": "code",
     "collapsed": false,
     "input": [
      "# Get Total family name in the whole dataset\n",
      "totalName = train_dat.Name.append(test_dat.Name)\n",
      "familyName = train_dat.Name.apply(getFamilyName)\n",
      "familyNameSize = familyName.value_counts()"
     ],
     "language": "python",
     "metadata": {},
     "outputs": [],
     "prompt_number": 151
    },
    {
     "cell_type": "code",
     "collapsed": false,
     "input": [
      "familySizeGroup = familyNameSize.apply(get_family_group)"
     ],
     "language": "python",
     "metadata": {},
     "outputs": [],
     "prompt_number": 154
    },
    {
     "cell_type": "code",
     "collapsed": false,
     "input": [],
     "language": "python",
     "metadata": {},
     "outputs": []
    },
    {
     "cell_type": "code",
     "collapsed": false,
     "input": [
      "titanic_df = pd.read_csv(\"train.csv\", dtype={\"Age\": np.float64})\n",
      "test_df = pd.read_csv(\"test.csv\", dtype={\"Age\": np.float64})\n",
      "# preview the data\n",
      "# titanic_df.head()"
     ],
     "language": "python",
     "metadata": {},
     "outputs": [],
     "prompt_number": 70
    },
    {
     "cell_type": "code",
     "collapsed": false,
     "input": [
      "# drop unnecessary columns, these columns won't be useful in analysis and prediction\n",
      "titanic_df = titanic_df.drop(['PassengerId','Ticket'], axis=1)\n",
      "test_df    = test_df.drop(['PassengerId','Ticket'], axis=1)"
     ],
     "language": "python",
     "metadata": {},
     "outputs": [],
     "prompt_number": 71
    },
    {
     "cell_type": "code",
     "collapsed": false,
     "input": [
      "titanic_df[\"Embarked\"] = titanic_df[\"Embarked\"].fillna(\"S\")\n",
      "\n",
      "# plot\n",
      "sns.factorplot('Embarked','Survived', data=titanic_df,size=4,aspect=3)\n",
      "\n",
      "fig, (axis1,axis2,axis3) = plt.subplots(1,3,figsize=(15,5))\n",
      "\n",
      "# sns.factorplot('Embarked',data=titanic_df,kind='count',order=['S','C','Q'],ax=axis1)\n",
      "# sns.factorplot('Survived',hue=\"Embarked\",data=titanic_df,kind='count',order=[1,0],ax=axis2)\n",
      "sns.countplot(x='Embarked', data=titanic_df, ax=axis1)\n",
      "sns.countplot(x='Survived', hue=\"Embarked\", data=titanic_df, order=[1,0], ax=axis2)\n",
      "# group by embarked, and get the mean for survived passengers for each value in Embarked\n",
      "embark_perc = titanic_df[[\"Embarked\", \"Survived\"]].groupby(['Embarked'],as_index=False).mean()\n",
      "sns.barplot(x='Embarked', y='Survived', data=embark_perc,order=['S','C','Q'],ax=axis3)\n",
      "\n",
      "embark_dummies_titanic  = pd.get_dummies(titanic_df['Embarked'])\n",
      "# embark_dummies_titanic.drop(['S'], axis=1, inplace=True)\n",
      "embark_dummies_test  = pd.get_dummies(test_df['Embarked'])\n",
      "# embark_dummies_test.drop(['S'], axis=1, inplace=True)\n",
      "\n",
      "titanic_df = titanic_df.join(embark_dummies_titanic)\n",
      "test_df    = test_df.join(embark_dummies_test)\n",
      "\n",
      "titanic_df.drop(['Embarked'], axis=1,inplace=True)\n",
      "test_df.drop(['Embarked'], axis=1,inplace=True)"
     ],
     "language": "python",
     "metadata": {},
     "outputs": [
      {
       "metadata": {},
       "output_type": "display_data",
       "png": "[encoded data removed]",
       "text": [
        "<matplotlib.figure.Figure at 0x7efd5787a990>"
       ]
      },
      {
       "metadata": {},
       "output_type": "display_data",
       "png": "[encoded data removed]",
       "text": [
        "<matplotlib.figure.Figure at 0x7efd5787a8d0>"
       ]
      }
     ],
     "prompt_number": 72
    },
    {
     "cell_type": "code",
     "collapsed": false,
     "input": [
      "# Fare\n",
      "\n",
      "# only for test_df, since there is a missing \"Fare\" values\n",
      "test_df[\"Fare\"].fillna(test_df[\"Fare\"].median(), inplace=True)\n",
      "\n",
      "# convert from float to int\n",
      "titanic_df['Fare'] = titanic_df['Fare'].astype(int)\n",
      "test_df['Fare']    = test_df['Fare'].astype(int)\n",
      "\n",
      "# get fare for survived & didn't survive passengers \n",
      "fare_not_survived = titanic_df[\"Fare\"][titanic_df[\"Survived\"] == 0]\n",
      "fare_survived     = titanic_df[\"Fare\"][titanic_df[\"Survived\"] == 1]\n",
      "# get average and std for fare of survived/not survived passengers\n",
      "avgerage_fare = DataFrame([fare_not_survived.mean(), fare_survived.mean()])\n",
      "std_fare      = DataFrame([fare_not_survived.std(), fare_survived.std()])\n",
      "\n",
      "# plot\n",
      "titanic_df['Fare'].plot(kind='hist', figsize=(15,3),bins=100, xlim=(0,50))\n",
      "\n",
      "avgerage_fare.index.names = std_fare.index.names = [\"Survived\"]\n",
      "avgerage_fare.plot(yerr=std_fare,kind='bar',legend=False)"
     ],
     "language": "python",
     "metadata": {},
     "outputs": [
      {
       "metadata": {},
       "output_type": "pyout",
       "prompt_number": 73,
       "text": [
        "<matplotlib.axes._subplots.AxesSubplot at 0x7efd57425b50>"
       ]
      },
      {
       "metadata": {},
       "output_type": "display_data",
       "png": "[encoded data removed]",
       "text": [
        "<matplotlib.figure.Figure at 0x7efd5787a450>"
       ]
      },
      {
       "metadata": {},
       "output_type": "display_data",
       "png": "[encoded data removed]",
       "text": [
        "<matplotlib.figure.Figure at 0x7efd5787a490>"
       ]
      }
     ],
     "prompt_number": 73
    },
    {
     "cell_type": "code",
     "collapsed": false,
     "input": [
      "# Age \n",
      "\n",
      "# fig, (axis1,axis2) = plt.subplots(1,2,figsize=(15,4))\n",
      "# axis1.set_title('Original Age values - Titanic')\n",
      "# axis2.set_title('New Age values - Titanic')\n",
      "\n",
      "# # axis3.set_title('Original Age values - Test')\n",
      "# # axis4.set_title('New Age values - Test')\n",
      "\n",
      "# # get average, std, and number of NaN values in titanic_df\n",
      "# # average_age_titanic   = titanic_df[\"Age\"].mean()\n",
      "# # std_age_titanic       = titanic_df[\"Age\"].std()\n",
      "# # count_nan_age_titanic = titanic_df[\"Age\"].isnull().sum()\n",
      "\n",
      "# # get average, std, and number of NaN values in test_df\n",
      "# # average_age_test   = test_df[\"Age\"].mean()\n",
      "# # std_age_test       = test_df[\"Age\"].std()\n",
      "# # count_nan_age_test = test_df[\"Age\"].isnull().sum()\n",
      "\n",
      "# # generate random numbers between (mean - std) & (mean + std)\n",
      "# # rand_1 = np.random.randint(average_age_titanic - std_age_titanic, average_age_titanic + std_age_titanic, \n",
      "# #                            size = count_nan_age_titanic)\n",
      "# # rand_2 = np.random.randint(average_age_test - std_age_test, average_age_test + std_age_test, \n",
      "# #                            size = count_nan_age_test)\n",
      "# # fill NaN values in Age column with random values generated\n",
      "# # titanic_df[\"Age\"][np.isnan(titanic_df[\"Age\"])] = rand_1\n",
      "# # test_df[\"Age\"][np.isnan(test_df[\"Age\"])] = rand_2\n",
      "\n",
      "# # convert from float to int\n",
      "# titanic_df['Age'] = titanic_df['Age'].astype(int)\n",
      "# test_df['Age']    = test_df['Age'].astype(int)\n",
      "\n",
      "# # plot original Age values\n",
      "# titanic_df['Age'].hist(bins=70, ax=axis1)\n",
      "# # test_df['Age'].hist(bins=70, ax=axis3)\n",
      "        \n",
      "# # plot new Age Values\n",
      "# titanic_df['Age'].hist(bins=70, ax=axis2)\n",
      "# # test_df['Age'].hist(bins=70, ax=axis4)"
     ],
     "language": "python",
     "metadata": {},
     "outputs": [],
     "prompt_number": 74
    },
    {
     "cell_type": "code",
     "collapsed": false,
     "input": [
      "def extract_patt(patt, linea):\n",
      "    matchObj = re.match(patt, linea)\n",
      "    if matchObj:\n",
      "        return matchObj.group(1).lower()\n",
      "    else:\n",
      "        print \"No match!!\"\n",
      "        return NaN\n",
      "def extract_title(linea):\n",
      "    return extract_patt('^.+,\\s(.+)\\..+', linea)\n",
      "extract_name = titanic_df.Name.apply(extract_title)\n",
      "titanic_df[\"Title\"] = extract_name\n",
      "age_by_title = titanic_df.groupby(\"Title\").Age.median()\n",
      "def convert_age_by_title(title):\n",
      "    return age_by_title[title]\n",
      "titanic_df['AgeFill'] = titanic_df['Age']\n",
      "a = titanic_df.loc[titanic_df.AgeFill.isnull(),['Title']]\n",
      "for idx in a.itertuples():\n",
      "    titanic_df['AgeFill'][idx.Index] = convert_age_by_title(idx.Title)\n",
      "\n",
      "extract_name = test_df.Name.apply(extract_title)\n",
      "test_df[\"Title\"] = extract_name\n",
      "test_df['AgeFill'] = test_df['Age']\n",
      "a = test_df.loc[test_df.AgeFill.isnull(),['Title']]\n",
      "for idx in a.itertuples():\n",
      "    test_df['AgeFill'][idx.Index] = convert_age_by_title(idx.Title)\n",
      "\n",
      "titanic_df['Age'] = titanic_df['AgeFill']\n",
      "titanic_df = titanic_df.drop(['AgeFill','Name','Title'],axis=1)\n",
      "test_df['Age'] = test_df['AgeFill']\n",
      "test_df = test_df.drop(['AgeFill','Name','Title'],axis=1)"
     ],
     "language": "python",
     "metadata": {},
     "outputs": [
      {
       "output_type": "stream",
       "stream": "stderr",
       "text": [
        "-c:18: SettingWithCopyWarning: \n",
        "A value is trying to be set on a copy of a slice from a DataFrame\n",
        "\n",
        "See the caveats in the documentation: http://pandas.pydata.org/pandas-docs/stable/indexing.html#indexing-view-versus-copy\n",
        "-c:25: SettingWithCopyWarning: \n",
        "A value is trying to be set on a copy of a slice from a DataFrame\n",
        "\n",
        "See the caveats in the documentation: http://pandas.pydata.org/pandas-docs/stable/indexing.html#indexing-view-versus-copy\n"
       ]
      }
     ],
     "prompt_number": 75
    },
    {
     "cell_type": "code",
     "collapsed": false,
     "input": [
      "# peaks for survived/not survived passengers by their age\n",
      "facet = sns.FacetGrid(titanic_df, hue=\"Survived\",aspect=4)\n",
      "facet.map(sns.kdeplot,'Age',shade= True)\n",
      "facet.set(xlim=(0, titanic_df['Age'].max()))\n",
      "facet.add_legend()\n",
      "\n",
      "# average survived passengers by age\n",
      "fig, axis1 = plt.subplots(1,1,figsize=(18,4))\n",
      "average_age = titanic_df[[\"Age\", \"Survived\"]].groupby(['Age'],as_index=False).mean()\n",
      "sns.barplot(x='Age', y='Survived', data=average_age)"
     ],
     "language": "python",
     "metadata": {},
     "outputs": [
      {
       "metadata": {},
       "output_type": "pyout",
       "prompt_number": 76,
       "text": [
        "<matplotlib.axes._subplots.AxesSubplot at 0x7efd5791a250>"
       ]
      },
      {
       "metadata": {},
       "output_type": "display_data",
       "png": "[encoded data removed]",
       "text": [
        "<matplotlib.figure.Figure at 0x7efd573220d0>"
       ]
      },
      {
       "metadata": {},
       "output_type": "display_data",
       "png": "[encoded data removed]",
       "text": [
        "<matplotlib.figure.Figure at 0x7efd57273550>"
       ]
      }
     ],
     "prompt_number": 76
    },
    {
     "cell_type": "code",
     "collapsed": false,
     "input": [
      "# Cabin\n",
      "# It has a lot of NaN values, so it won't cause a remarkable impact on prediction\n",
      "titanic_df.drop(\"Cabin\",axis=1,inplace=True)\n",
      "test_df.drop(\"Cabin\",axis=1,inplace=True)"
     ],
     "language": "python",
     "metadata": {},
     "outputs": [],
     "prompt_number": 77
    },
    {
     "cell_type": "code",
     "collapsed": false,
     "input": [
      "# Family\n",
      "\n",
      "# Instead of having two columns Parch & SibSp, \n",
      "# we can have only one column represent if the passenger had any family member aboard or not,\n",
      "# Meaning, if having any family member(whether parent, brother, ...etc) will increase chances of Survival or not.\n",
      "titanic_df['Family'] =  titanic_df[\"Parch\"] + titanic_df[\"SibSp\"] \n",
      "titanic_df['Family'].loc[titanic_df['Family'] > 0] = 1\n",
      "titanic_df['Family'].loc[titanic_df['Family'] == 0] = 0\n",
      "\n",
      "test_df['Family'] =  test_df[\"Parch\"] + test_df[\"SibSp\"]\n",
      "test_df['Family'].loc[test_df['Family'] > 0] = 1\n",
      "test_df['Family'].loc[test_df['Family'] == 0] = 0\n",
      "# drop Parch & SibSp\n",
      "titanic_df = titanic_df.drop(['SibSp','Parch'], axis=1)\n",
      "test_df    = test_df.drop(['SibSp','Parch'], axis=1)\n",
      "\n",
      "# plot\n",
      "fig, (axis1,axis2) = plt.subplots(1,2,sharex=True,figsize=(10,5))\n",
      "\n",
      "# sns.factorplot('Family',data=titanic_df,kind='count',ax=axis1)\n",
      "sns.countplot(x='Family', data=titanic_df, order=[1,0], ax=axis1)\n",
      "\n",
      "# average of survived for those who had/didn't have any family member\n",
      "family_perc = titanic_df[[\"Family\", \"Survived\"]].groupby(['Family'],as_index=False).mean()\n",
      "sns.barplot(x='Family', y='Survived', data=family_perc, order=[1,0], ax=axis2)\n",
      "\n",
      "axis1.set_xticklabels([\"With Family\",\"Alone\"], rotation=0)"
     ],
     "language": "python",
     "metadata": {},
     "outputs": [
      {
       "output_type": "stream",
       "stream": "stderr",
       "text": [
        "/usr/local/lib/python2.7/dist-packages/pandas/core/indexing.py:132: SettingWithCopyWarning: \n",
        "A value is trying to be set on a copy of a slice from a DataFrame\n",
        "\n",
        "See the caveats in the documentation: http://pandas.pydata.org/pandas-docs/stable/indexing.html#indexing-view-versus-copy\n",
        "  self._setitem_with_indexer(indexer, value)\n"
       ]
      },
      {
       "metadata": {},
       "output_type": "pyout",
       "prompt_number": 78,
       "text": [
        "[<matplotlib.text.Text at 0x7efd56f82210>,\n",
        " <matplotlib.text.Text at 0x7efd57013490>]"
       ]
      },
      {
       "metadata": {},
       "output_type": "display_data",
       "png": "[encoded data removed]",
       "text": [
        "<matplotlib.figure.Figure at 0x7efd56f33e90>"
       ]
      }
     ],
     "prompt_number": 78
    },
    {
     "cell_type": "code",
     "collapsed": false,
     "input": [
      "# Sex\n",
      "\n",
      "# As we see, children(age < ~16) on aboard seem to have a high chances for Survival.\n",
      "# So, we can classify passengers as males, females, and child\n",
      "def get_person(passenger):\n",
      "    age,sex = passenger\n",
      "    return 'child' if age < 16 else sex\n",
      "    \n",
      "titanic_df['Person'] = titanic_df[['Age','Sex']].apply(get_person,axis=1)\n",
      "test_df['Person']    = test_df[['Age','Sex']].apply(get_person,axis=1)\n",
      "\n",
      "# No need to use Sex column since we created Person column\n",
      "titanic_df.drop(['Sex'],axis=1,inplace=True)\n",
      "test_df.drop(['Sex'],axis=1,inplace=True)\n",
      "\n",
      "# create dummy variables for Person column, & drop Male as it has the lowest average of survived passengers\n",
      "person_dummies_titanic  = pd.get_dummies(titanic_df['Person'])\n",
      "person_dummies_titanic.columns = ['Child','Female','Male']\n",
      "# person_dummies_titanic.drop(['Male'], axis=1, inplace=True)\n",
      "\n",
      "person_dummies_test  = pd.get_dummies(test_df['Person'])\n",
      "person_dummies_test.columns = ['Child','Female','Male']\n",
      "# person_dummies_test.drop(['Male'], axis=1, inplace=True)\n",
      "\n",
      "titanic_df = titanic_df.join(person_dummies_titanic)\n",
      "test_df    = test_df.join(person_dummies_test)\n",
      "\n",
      "fig, (axis1,axis2) = plt.subplots(1,2,figsize=(10,5))\n",
      "\n",
      "# sns.factorplot('Person',data=titanic_df,kind='count',ax=axis1)\n",
      "sns.countplot(x='Person', data=titanic_df, ax=axis1)\n",
      "\n",
      "# average of survived for each Person(male, female, or child)\n",
      "person_perc = titanic_df[[\"Person\", \"Survived\"]].groupby(['Person'],as_index=False).mean()\n",
      "sns.barplot(x='Person', y='Survived', data=person_perc, ax=axis2, order=['male','female','child'])\n",
      "\n",
      "titanic_df.drop(['Person'],axis=1,inplace=True)\n",
      "test_df.drop(['Person'],axis=1,inplace=True)"
     ],
     "language": "python",
     "metadata": {},
     "outputs": [
      {
       "metadata": {},
       "output_type": "display_data",
       "png": "[encoded data removed]",
       "text": [
        "<matplotlib.figure.Figure at 0x7efd56f29250>"
       ]
      }
     ],
     "prompt_number": 79
    },
    {
     "cell_type": "code",
     "collapsed": false,
     "input": [
      "# Pclass\n",
      "# sns.factorplot('Pclass',data=titanic_df,kind='count',order=[1,2,3])\n",
      "sns.factorplot('Pclass','Survived',order=[1,2,3], data=titanic_df,size=5)\n",
      "\n",
      "# create dummy variables for Pclass column, & drop 3rd class as it has the lowest average of survived passengers\n",
      "pclass_dummies_titanic  = pd.get_dummies(titanic_df['Pclass'])\n",
      "pclass_dummies_titanic.columns = ['Class_1','Class_2','Class_3']\n",
      "# pclass_dummies_titanic.drop(['Class_3'], axis=1, inplace=True)\n",
      "\n",
      "pclass_dummies_test  = pd.get_dummies(test_df['Pclass'])\n",
      "pclass_dummies_test.columns = ['Class_1','Class_2','Class_3']\n",
      "# pclass_dummies_test.drop(['Class_3'], axis=1, inplace=True)\n",
      "titanic_df.drop(['Pclass'],axis=1,inplace=True)\n",
      "test_df.drop(['Pclass'],axis=1,inplace=True)\n",
      "\n",
      "titanic_df = titanic_df.join(pclass_dummies_titanic)\n",
      "test_df    = test_df.join(pclass_dummies_test)"
     ],
     "language": "python",
     "metadata": {},
     "outputs": [
      {
       "metadata": {},
       "output_type": "display_data",
       "png": "[encoded data removed]",
       "text": [
        "<matplotlib.figure.Figure at 0x7efd5733c5d0>"
       ]
      }
     ],
     "prompt_number": 80
    },
    {
     "cell_type": "code",
     "collapsed": false,
     "input": [
      "dat = pd.read_csv('train.csv', header=0)\n",
      "extract_name_train = dat.Name.apply(extract_title)\n",
      "is_married_train = np.zeros(extract_name_train.shape[0])\n",
      "for idx,title in enumerate(extract_name_train):\n",
      "    if ((title.lower()== \"mr\") or (title.lower()==\"mrs\")):\n",
      "        is_married_train[idx] = 1\n",
      "split_last_name = lambda x: x.split(',')[0].lower()\n",
      "extract_last_name_train = dat.Name.apply(split_last_name)\n",
      "\n",
      "dat_test = pd.read_csv('train.csv', header=0)\n",
      "extract_name_test = dat_test.Name.apply(extract_title)\n",
      "is_married_test = np.zeros(extract_name_test.shape[0])\n",
      "for idx,title in enumerate(extract_name_test):\n",
      "    if ((title.lower()== \"mr\") or (title.lower()==\"mrs\")):\n",
      "        is_married_test[idx] = 1\n",
      "split_last_name = lambda x: x.split(',')[0].lower()\n",
      "extract_last_name_test = dat_test.Name.apply(split_last_name)\n",
      "# Get total last name\n",
      "total_last_name = extract_last_name_train.append(extract_last_name_test)\n",
      "count_name = dict(zip(*(np.unique(total_last_name, return_counts=True))))\n",
      "# Get total passenger per cabin\n",
      "passengers_per_cabin = dat.groupby('Cabin')['Name'].apply(list)\n",
      "passengers_per_cabin_test = dat_test.groupby('Cabin')['Name'].apply(list)\n",
      "total_passenger_per_cabin = passengers_per_cabin.append(passengers_per_cabin_test)\n",
      "\n",
      "def search_relative_or_is_cabin_follow(name,cabin):\n",
      "    last_name = split_last_name(name)\n",
      "    if(count_name[last_name] > 1):\n",
      "        return 1\n",
      "    if cabin is not np.nan:\n",
      "        if(name in total_passenger_per_cabin[cabin]):\n",
      "            return 1\n",
      "    return 0\n",
      "\n",
      "is_helped_train = np.zeros(dat.shape[0])\n",
      "for idx, person in dat.iterrows():\n",
      "    is_helped_train[idx] = search_relative_or_is_cabin_follow(person.Name,person.Cabin)\n",
      "dat['is_helped'] = is_helped_train\n",
      "dat['is_married'] = is_married_train\n",
      "\n",
      "is_helped_test = np.zeros(dat_test.shape[0])\n",
      "for idx, person in dat_test.iterrows():\n",
      "    is_helped_test[idx] = search_relative_or_is_cabin_follow(person.Name,person.Cabin)\n",
      "dat_test['is_helped'] = is_helped_test\n",
      "dat_test['is_married'] = is_married_test"
     ],
     "language": "python",
     "metadata": {},
     "outputs": [],
     "prompt_number": 81
    },
    {
     "cell_type": "code",
     "collapsed": false,
     "input": [
      "titanic_df['is_married'] = dat.is_married\n",
      "test_df['is_helped'] = dat.is_helped\n",
      "\n",
      "titanic_df['is_married'] = dat_test.is_married\n",
      "test_df['is_helped'] = dat_test.is_helped"
     ],
     "language": "python",
     "metadata": {},
     "outputs": [],
     "prompt_number": 82
    },
    {
     "cell_type": "code",
     "collapsed": false,
     "input": [
      "titanic_df.head()"
     ],
     "language": "python",
     "metadata": {},
     "outputs": [
      {
       "html": [
        "<div style=\"max-width:1500px;overflow:auto;\">\n",
        "<table border=\"1\" class=\"dataframe\">\n",
        "  <thead>\n",
        "    <tr style=\"text-align: right;\">\n",
        "      <th></th>\n",
        "      <th>Survived</th>\n",
        "      <th>Age</th>\n",
        "      <th>Fare</th>\n",
        "      <th>C</th>\n",
        "      <th>Q</th>\n",
        "      <th>S</th>\n",
        "      <th>Family</th>\n",
        "      <th>Child</th>\n",
        "      <th>Female</th>\n",
        "      <th>Male</th>\n",
        "      <th>Class_1</th>\n",
        "      <th>Class_2</th>\n",
        "      <th>Class_3</th>\n",
        "      <th>is_married</th>\n",
        "    </tr>\n",
        "  </thead>\n",
        "  <tbody>\n",
        "    <tr>\n",
        "      <th>0</th>\n",
        "      <td>0</td>\n",
        "      <td>22.0</td>\n",
        "      <td>7</td>\n",
        "      <td>0.0</td>\n",
        "      <td>0.0</td>\n",
        "      <td>1.0</td>\n",
        "      <td>1</td>\n",
        "      <td>0.0</td>\n",
        "      <td>0.0</td>\n",
        "      <td>1.0</td>\n",
        "      <td>0.0</td>\n",
        "      <td>0.0</td>\n",
        "      <td>1.0</td>\n",
        "      <td>1.0</td>\n",
        "    </tr>\n",
        "    <tr>\n",
        "      <th>1</th>\n",
        "      <td>1</td>\n",
        "      <td>38.0</td>\n",
        "      <td>71</td>\n",
        "      <td>1.0</td>\n",
        "      <td>0.0</td>\n",
        "      <td>0.0</td>\n",
        "      <td>1</td>\n",
        "      <td>0.0</td>\n",
        "      <td>1.0</td>\n",
        "      <td>0.0</td>\n",
        "      <td>1.0</td>\n",
        "      <td>0.0</td>\n",
        "      <td>0.0</td>\n",
        "      <td>1.0</td>\n",
        "    </tr>\n",
        "    <tr>\n",
        "      <th>2</th>\n",
        "      <td>1</td>\n",
        "      <td>26.0</td>\n",
        "      <td>7</td>\n",
        "      <td>0.0</td>\n",
        "      <td>0.0</td>\n",
        "      <td>1.0</td>\n",
        "      <td>0</td>\n",
        "      <td>0.0</td>\n",
        "      <td>1.0</td>\n",
        "      <td>0.0</td>\n",
        "      <td>0.0</td>\n",
        "      <td>0.0</td>\n",
        "      <td>1.0</td>\n",
        "      <td>0.0</td>\n",
        "    </tr>\n",
        "    <tr>\n",
        "      <th>3</th>\n",
        "      <td>1</td>\n",
        "      <td>35.0</td>\n",
        "      <td>53</td>\n",
        "      <td>0.0</td>\n",
        "      <td>0.0</td>\n",
        "      <td>1.0</td>\n",
        "      <td>1</td>\n",
        "      <td>0.0</td>\n",
        "      <td>1.0</td>\n",
        "      <td>0.0</td>\n",
        "      <td>1.0</td>\n",
        "      <td>0.0</td>\n",
        "      <td>0.0</td>\n",
        "      <td>1.0</td>\n",
        "    </tr>\n",
        "    <tr>\n",
        "      <th>4</th>\n",
        "      <td>0</td>\n",
        "      <td>35.0</td>\n",
        "      <td>8</td>\n",
        "      <td>0.0</td>\n",
        "      <td>0.0</td>\n",
        "      <td>1.0</td>\n",
        "      <td>0</td>\n",
        "      <td>0.0</td>\n",
        "      <td>0.0</td>\n",
        "      <td>1.0</td>\n",
        "      <td>0.0</td>\n",
        "      <td>0.0</td>\n",
        "      <td>1.0</td>\n",
        "      <td>1.0</td>\n",
        "    </tr>\n",
        "  </tbody>\n",
        "</table>\n",
        "</div>"
       ],
       "metadata": {},
       "output_type": "pyout",
       "prompt_number": 83,
       "text": [
        "   Survived   Age  Fare    C    Q    S  Family  Child  Female  Male  Class_1  \\\n",
        "0         0  22.0     7  0.0  0.0  1.0       1    0.0     0.0   1.0      0.0   \n",
        "1         1  38.0    71  1.0  0.0  0.0       1    0.0     1.0   0.0      1.0   \n",
        "2         1  26.0     7  0.0  0.0  1.0       0    0.0     1.0   0.0      0.0   \n",
        "3         1  35.0    53  0.0  0.0  1.0       1    0.0     1.0   0.0      1.0   \n",
        "4         0  35.0     8  0.0  0.0  1.0       0    0.0     0.0   1.0      0.0   \n",
        "\n",
        "   Class_2  Class_3  is_married  \n",
        "0      0.0      1.0         1.0  \n",
        "1      0.0      0.0         1.0  \n",
        "2      0.0      1.0         0.0  \n",
        "3      0.0      0.0         1.0  \n",
        "4      0.0      1.0         1.0  "
       ]
      }
     ],
     "prompt_number": 83
    },
    {
     "cell_type": "code",
     "collapsed": false,
     "input": [
      "AgeClass_train = titanic_df.Age*dat.Pclass\n",
      "AgeClass_test = test_df.Age*dat_test.Pclass\n",
      "titanic_df['AgeClass'] = AgeClass_train\n",
      "test_df['AgeClass'] = AgeClass_test"
     ],
     "language": "python",
     "metadata": {},
     "outputs": [],
     "prompt_number": 84
    },
    {
     "cell_type": "code",
     "collapsed": false,
     "input": [
      "# np.savez(\"train_test_v2\",X_train=X_train,y_train = Y_train, X_test=X_test)"
     ],
     "language": "python",
     "metadata": {},
     "outputs": [],
     "prompt_number": 164
    },
    {
     "cell_type": "heading",
     "level": 1,
     "metadata": {},
     "source": [
      "Training and Prediction"
     ]
    },
    {
     "cell_type": "code",
     "collapsed": false,
     "input": [
      "# define training and testing sets\n",
      "X_train = titanic_df.drop(\"Survived\",axis=1).values\n",
      "Y_train = titanic_df[\"Survived\"].values\n",
      "X_test  = test_df.copy().values\n",
      "# dat = np.load('train_test_v2.npz')\n",
      "# X_train = dat['X_train'][0:\n",
      "# Y_train = dat['y_train']\n",
      "# X_test = dat['X_test']\n",
      "# kfold = KFold(Y_train.shape[0],n_folds=10)\n",
      "kfold = StratifiedKFold(Y_train,n_folds=5,shuffle=True)"
     ],
     "language": "python",
     "metadata": {},
     "outputs": [],
     "prompt_number": 92
    },
    {
     "cell_type": "code",
     "collapsed": false,
     "input": [
      "random_forest = RandomForestClassifier(n_estimators=200, min_samples_split=1)\n",
      "result = []\n",
      "for idx, (train,test) in enumerate(kfold):\n",
      "    random_forest.fit(X_train[train], Y_train[train])    \n",
      "    Y_pred = random_forest.predict(X_train[test])\n",
      "    score = random_forest.score(X_train[test], Y_train[test])\n",
      "    result.append(score)\n",
      "    print score\n",
      "print \"Mean score : %s +/- %s\"%(np.array(score).mean(),np.array(score).std())\n",
      "print random_forest.score(X_train,Y_train)\n",
      "# 8295-170 8409-160 8636-161 0.8295 - 180"
     ],
     "language": "python",
     "metadata": {},
     "outputs": [
      {
       "output_type": "stream",
       "stream": "stdout",
       "text": [
        "0.788888888889\n",
        "0.744444444444"
       ]
      },
      {
       "output_type": "stream",
       "stream": "stdout",
       "text": [
        "\n",
        "0.76404494382"
       ]
      },
      {
       "output_type": "stream",
       "stream": "stdout",
       "text": [
        "\n",
        "0.797752808989"
       ]
      },
      {
       "output_type": "stream",
       "stream": "stdout",
       "text": [
        "\n",
        "0.719101123596"
       ]
      },
      {
       "output_type": "stream",
       "stream": "stdout",
       "text": [
        "\n",
        "0.85393258427"
       ]
      },
      {
       "output_type": "stream",
       "stream": "stdout",
       "text": [
        "\n",
        "0.786516853933"
       ]
      },
      {
       "output_type": "stream",
       "stream": "stdout",
       "text": [
        "\n",
        "0.786516853933"
       ]
      },
      {
       "output_type": "stream",
       "stream": "stdout",
       "text": [
        "\n",
        "0.887640449438"
       ]
      },
      {
       "output_type": "stream",
       "stream": "stdout",
       "text": [
        "\n",
        "0.795454545455"
       ]
      },
      {
       "output_type": "stream",
       "stream": "stdout",
       "text": [
        "\n",
        "Mean score : 0.795454545455 +/- 0.0\n",
        "0.948372615039\n"
       ]
      }
     ],
     "prompt_number": 155
    },
    {
     "cell_type": "code",
     "collapsed": false,
     "input": [
      "feature_important = pd.Series(random_forest.feature_importances_,titanic_df.drop(['Survived'],axis=1).columns)"
     ],
     "language": "python",
     "metadata": {},
     "outputs": [],
     "prompt_number": 159
    },
    {
     "cell_type": "code",
     "collapsed": false,
     "input": [
      "feature_important.sort_values().plot(kind='bar')"
     ],
     "language": "python",
     "metadata": {},
     "outputs": [
      {
       "metadata": {},
       "output_type": "pyout",
       "prompt_number": 162,
       "text": [
        "<matplotlib.axes._subplots.AxesSubplot at 0x7efd2a74ead0>"
       ]
      },
      {
       "metadata": {},
       "output_type": "display_data",
       "png": "[encoded data removed]",
       "text": [
        "<matplotlib.figure.Figure at 0x7efd2a729f50>"
       ]
      }
     ],
     "prompt_number": 162
    }
   ],
   "metadata": {}
  }
 ]
}