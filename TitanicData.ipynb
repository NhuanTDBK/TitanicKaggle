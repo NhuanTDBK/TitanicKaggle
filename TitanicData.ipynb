{
 "metadata": {
  "name": ""
 },
 "nbformat": 3,
 "nbformat_minor": 0,
 "worksheets": [
  {
   "cells": [
    {
     "cell_type": "code",
     "collapsed": false,
     "input": [
      "import pandas as pd\n",
      "import numpy as np\n",
      "from sklearn.preprocessing import LabelEncoder\n",
      "from sklearn.ensemble import RandomForestClassifier\n",
      "from sklearn.cross_validation import StratifiedKFold"
     ],
     "language": "python",
     "metadata": {},
     "outputs": [],
     "prompt_number": 1
    },
    {
     "cell_type": "code",
     "collapsed": false,
     "input": [
      "def load_data(filename):\n",
      "    df = pd.read_csv(filename,header=0)\n",
      "    encoder = LabelEncoder()\n",
      "    df['Gender'] = encoder.fit_transform(df.Sex)\n",
      "    median_ages = np.zeros((2,3))\n",
      "    for i in range(0, 2):\n",
      "        for j in range(0, 3):\n",
      "            median_ages[i,j] = df[(df['Gender'] == i) & \\\n",
      "                                  (df['Pclass'] == j+1)]['Age'].dropna().median()\n",
      "    df['AgeFill'] = df['Age']\n",
      "    for i in range(0, 2):\n",
      "        for j in range(0, 3):\n",
      "            df.loc[ (df.Age.isnull()) & (df.Gender == i) & (df.Pclass == j+1),'AgeFill'] = median_ages[i,j]\n",
      "    df['FamilySize'] = df.SibSp + df.Parch\n",
      "    df['AgeClass'] = df.AgeFill.multiply(df.Pclass)\n",
      "    \n",
      "    median_fare = np.zeros(median_ages.shape)\n",
      "    for i in range(0, 2):\n",
      "        for j in range(0, 3):\n",
      "            median_fare[i,j] = df[(df['Gender'] == i) & \\\n",
      "                                  (df['Pclass'] == j+1)]['Age'].dropna().median()\n",
      "    for i in range(0, 2):\n",
      "        for j in range(0, 3):\n",
      "            df.loc[ (df.Fare.isnull()) & (df.Gender == i) & (df.Pclass == j+1),'Fare'] = median_fare[i,j]\n",
      "    df = df.drop(['Name', 'Sex', 'Ticket', 'Cabin', 'Embarked','PassengerId','Age'], axis=1) \n",
      "    # df = df.drop([], axis=1)\n",
      "#     df = df.dropna()\n",
      "    return df.values"
     ],
     "language": "python",
     "metadata": {},
     "outputs": [],
     "prompt_number": 4
    },
    {
     "cell_type": "code",
     "collapsed": false,
     "input": [
      "train_data = load_data(\"train.csv\")\n",
      "test_data = load_data(\"test.csv\")"
     ],
     "language": "python",
     "metadata": {},
     "outputs": [],
     "prompt_number": 5
    },
    {
     "cell_type": "code",
     "collapsed": false,
     "input": [
      "estimator = RandomForestClassifier(n_estimators=100)"
     ],
     "language": "python",
     "metadata": {},
     "outputs": [],
     "prompt_number": 6
    },
    {
     "cell_type": "code",
     "collapsed": false,
     "input": [
      "X = train_data[0:,1:]\n",
      "y = train_data[0:,0]\n",
      "kfold = StratifiedKFold(y,n_folds=10)\n",
      "for idx, (train, test) in enumerate(kfold):\n",
      "    estimator.fit(X[train],y[train])"
     ],
     "language": "python",
     "metadata": {},
     "outputs": [],
     "prompt_number": 7
    },
    {
     "cell_type": "code",
     "collapsed": false,
     "input": [
      "X_test = test_data\n",
      "y_pred = estimator.predict(X_test).astype(int)\n",
      "pID = pd.read_csv(\"test.csv\",header=0)[\"PassengerId\"]\n",
      "pd.DataFrame(zip(pID,y_pred),columns=[\"PassengerId\",\"Survived\"]).to_csv(\"mysubmission.csv\",index=None)"
     ],
     "language": "python",
     "metadata": {},
     "outputs": [],
     "prompt_number": 11
    },
    {
     "cell_type": "code",
     "collapsed": false,
     "input": [],
     "language": "python",
     "metadata": {},
     "outputs": []
    }
   ],
   "metadata": {}
  }
 ]
}